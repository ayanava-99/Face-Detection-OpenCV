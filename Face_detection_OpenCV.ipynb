{
 "cells": [
  {
   "cell_type": "markdown",
   "metadata": {},
   "source": [
    "# Basic python code to create a face detector with OpenCV\n",
    "###### OpenCV library contains many pre-trained classifiers for face, eyes, smile, etc. stored in the form of XML files. \n",
    "###### In this code i have used haarcascade_frontalface_default.xml file stored in opencv/data/haarcascades/ Folder .\n",
    "###### A Haar Cascade is basically a classifier which is used to detect particular objects from the source. The haarcascade_frontalface_default.xml is a haar cascade designed by OpenCV to detect the frontal face\n",
    "######  Refer to the [OpenCV](https://docs.opencv.org/3.1.0/d7/d8b/tutorial_py_face_detection.html#gsc.tab=0) documentation regarding the parameter description"
   ]
  },
  {
   "cell_type": "code",
   "execution_count": 24,
   "metadata": {},
   "outputs": [],
   "source": [
    "import cv2\n",
    "import sys"
   ]
  },
  {
   "cell_type": "code",
   "execution_count": 22,
   "metadata": {},
   "outputs": [],
   "source": [
    "counter = 0\n",
    "faceCascade = cv2.CascadeClassifier('haarcascade_frontalface_default.xml')\n",
    "video_capture = cv2.VideoCapture(0)\n",
    "\n",
    "while True:\n",
    "    ret, frame = video_capture.read()\n",
    "    gray = cv2.cvtColor(frame, cv2.COLOR_BGR2GRAY)\n",
    "    k = cv2.waitKey(1)\n",
    "    \n",
    "    faces = faceCascade.detectMultiScale(\n",
    "        gray,\n",
    "        scaleFactor=1.5,\n",
    "        minNeighbors=5,\n",
    "        minSize=(30, 30),\n",
    "        flags=cv2.CASCADE_SCALE_IMAGE\n",
    "    )\n",
    "    \n",
    "    #Count the no. of faces\n",
    "    counter=str(len(faces))\n",
    "    \n",
    "    \n",
    "    for face_no, (x, y, w, h) in enumerate(faces):\n",
    "        #Draw rectangle around the faces \n",
    "        cv2.rectangle(frame, (x, y), (x+w, y+h), (0, 255, 0), 2)\n",
    "        #print the no. of faces\n",
    "        cv2.putText(frame, str(face_no + 1 ), (x, y - 30), cv2.FONT_HERSHEY_TRIPLEX,\n",
    "                    .7, (0, 0, 0), 1, cv2.LINE_AA)\n",
    "        \n",
    "       \n",
    "    cv2.imshow('FaceDetection', frame)\n",
    "\n",
    "    if k%256 == 27: #ESC To exit\n",
    "        break\n",
    "    elif k%256 == 32: # SPACE To capture \n",
    "        \n",
    "        img_name = \"facedetect_{}_.png\".format(img_counter)\n",
    "        cv2.imwrite(img_name, frame)\n",
    "        print(\"{} Captured!\".format(img_name))\n",
    "\n",
    "video_capture.release()\n",
    "cv2.destroyAllWindows()"
   ]
  },
  {
   "cell_type": "code",
   "execution_count": 23,
   "metadata": {},
   "outputs": [],
   "source": []
  },
  {
   "cell_type": "code",
   "execution_count": null,
   "metadata": {},
   "outputs": [],
   "source": []
  }
 ],
 "metadata": {
  "kernelspec": {
   "display_name": "Python 3",
   "language": "python",
   "name": "python3"
  },
  "language_info": {
   "codemirror_mode": {
    "name": "ipython",
    "version": 3
   },
   "file_extension": ".py",
   "mimetype": "text/x-python",
   "name": "python",
   "nbconvert_exporter": "python",
   "pygments_lexer": "ipython3",
   "version": "3.7.3"
  }
 },
 "nbformat": 4,
 "nbformat_minor": 2
}
